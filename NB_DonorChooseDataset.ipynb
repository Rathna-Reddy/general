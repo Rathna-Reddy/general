{
 "cells": [
  {
   "cell_type": "markdown",
   "metadata": {
    "id": "Dnubs-Nnb3cw"
   },
   "source": [
    "# Apply NB on DonorChoose dataset"
   ]
  },
  {
   "cell_type": "markdown",
   "metadata": {
    "id": "inzYCIaib3c3"
   },
   "source": [
    "<h1>Naive Bayes </h1>"
   ]
  },
  {
   "cell_type": "markdown",
   "metadata": {
    "id": "FYqCIxzFb3c5"
   },
   "source": [
    "## 1.1 Loading Data"
   ]
  },
  {
   "cell_type": "code",
   "execution_count": 169,
   "metadata": {
    "id": "dA1jknyqb3c_"
   },
   "outputs": [
    {
     "name": "stdout",
     "output_type": "stream",
     "text": [
      "(109248, 9)\n"
     ]
    },
    {
     "data": {
      "text/html": [
       "<div>\n",
       "<style scoped>\n",
       "    .dataframe tbody tr th:only-of-type {\n",
       "        vertical-align: middle;\n",
       "    }\n",
       "\n",
       "    .dataframe tbody tr th {\n",
       "        vertical-align: top;\n",
       "    }\n",
       "\n",
       "    .dataframe thead th {\n",
       "        text-align: right;\n",
       "    }\n",
       "</style>\n",
       "<table border=\"1\" class=\"dataframe\">\n",
       "  <thead>\n",
       "    <tr style=\"text-align: right;\">\n",
       "      <th></th>\n",
       "      <th>school_state</th>\n",
       "      <th>teacher_prefix</th>\n",
       "      <th>project_grade_category</th>\n",
       "      <th>teacher_number_of_previously_posted_projects</th>\n",
       "      <th>project_is_approved</th>\n",
       "      <th>clean_categories</th>\n",
       "      <th>clean_subcategories</th>\n",
       "      <th>essay</th>\n",
       "      <th>price</th>\n",
       "    </tr>\n",
       "  </thead>\n",
       "  <tbody>\n",
       "    <tr>\n",
       "      <th>0</th>\n",
       "      <td>ca</td>\n",
       "      <td>mrs</td>\n",
       "      <td>grades_prek_2</td>\n",
       "      <td>53</td>\n",
       "      <td>1</td>\n",
       "      <td>math_science</td>\n",
       "      <td>appliedsciences health_lifescience</td>\n",
       "      <td>i fortunate enough use fairy tale stem kits cl...</td>\n",
       "      <td>725.05</td>\n",
       "    </tr>\n",
       "    <tr>\n",
       "      <th>1</th>\n",
       "      <td>ut</td>\n",
       "      <td>ms</td>\n",
       "      <td>grades_3_5</td>\n",
       "      <td>4</td>\n",
       "      <td>1</td>\n",
       "      <td>specialneeds</td>\n",
       "      <td>specialneeds</td>\n",
       "      <td>imagine 8 9 years old you third grade classroo...</td>\n",
       "      <td>213.03</td>\n",
       "    </tr>\n",
       "    <tr>\n",
       "      <th>2</th>\n",
       "      <td>ca</td>\n",
       "      <td>mrs</td>\n",
       "      <td>grades_prek_2</td>\n",
       "      <td>10</td>\n",
       "      <td>1</td>\n",
       "      <td>literacy_language</td>\n",
       "      <td>literacy</td>\n",
       "      <td>having class 24 students comes diverse learner...</td>\n",
       "      <td>329.00</td>\n",
       "    </tr>\n",
       "    <tr>\n",
       "      <th>3</th>\n",
       "      <td>ga</td>\n",
       "      <td>mrs</td>\n",
       "      <td>grades_prek_2</td>\n",
       "      <td>2</td>\n",
       "      <td>1</td>\n",
       "      <td>appliedlearning</td>\n",
       "      <td>earlydevelopment</td>\n",
       "      <td>i recently read article giving students choice...</td>\n",
       "      <td>481.04</td>\n",
       "    </tr>\n",
       "    <tr>\n",
       "      <th>4</th>\n",
       "      <td>wa</td>\n",
       "      <td>mrs</td>\n",
       "      <td>grades_3_5</td>\n",
       "      <td>2</td>\n",
       "      <td>1</td>\n",
       "      <td>literacy_language</td>\n",
       "      <td>literacy</td>\n",
       "      <td>my students crave challenge eat obstacles brea...</td>\n",
       "      <td>17.74</td>\n",
       "    </tr>\n",
       "  </tbody>\n",
       "</table>\n",
       "</div>"
      ],
      "text/plain": [
       "  school_state teacher_prefix project_grade_category  \\\n",
       "0           ca            mrs          grades_prek_2   \n",
       "1           ut             ms             grades_3_5   \n",
       "2           ca            mrs          grades_prek_2   \n",
       "3           ga            mrs          grades_prek_2   \n",
       "4           wa            mrs             grades_3_5   \n",
       "\n",
       "   teacher_number_of_previously_posted_projects  project_is_approved  \\\n",
       "0                                            53                    1   \n",
       "1                                             4                    1   \n",
       "2                                            10                    1   \n",
       "3                                             2                    1   \n",
       "4                                             2                    1   \n",
       "\n",
       "    clean_categories                 clean_subcategories  \\\n",
       "0       math_science  appliedsciences health_lifescience   \n",
       "1       specialneeds                        specialneeds   \n",
       "2  literacy_language                            literacy   \n",
       "3    appliedlearning                    earlydevelopment   \n",
       "4  literacy_language                            literacy   \n",
       "\n",
       "                                               essay   price  \n",
       "0  i fortunate enough use fairy tale stem kits cl...  725.05  \n",
       "1  imagine 8 9 years old you third grade classroo...  213.03  \n",
       "2  having class 24 students comes diverse learner...  329.00  \n",
       "3  i recently read article giving students choice...  481.04  \n",
       "4  my students crave challenge eat obstacles brea...   17.74  "
      ]
     },
     "execution_count": 169,
     "metadata": {},
     "output_type": "execute_result"
    }
   ],
   "source": [
    "import pandas\n",
    "data = pandas.read_csv('preprocessed_data.csv')\n",
    "print(data.shape)\n",
    "data.head(5)"
   ]
  },
  {
   "cell_type": "code",
   "execution_count": 170,
   "metadata": {},
   "outputs": [
    {
     "data": {
      "text/html": [
       "<div>\n",
       "<style scoped>\n",
       "    .dataframe tbody tr th:only-of-type {\n",
       "        vertical-align: middle;\n",
       "    }\n",
       "\n",
       "    .dataframe tbody tr th {\n",
       "        vertical-align: top;\n",
       "    }\n",
       "\n",
       "    .dataframe thead th {\n",
       "        text-align: right;\n",
       "    }\n",
       "</style>\n",
       "<table border=\"1\" class=\"dataframe\">\n",
       "  <thead>\n",
       "    <tr style=\"text-align: right;\">\n",
       "      <th></th>\n",
       "      <th>school_state</th>\n",
       "      <th>teacher_prefix</th>\n",
       "      <th>project_grade_category</th>\n",
       "      <th>teacher_number_of_previously_posted_projects</th>\n",
       "      <th>clean_categories</th>\n",
       "      <th>clean_subcategories</th>\n",
       "      <th>essay</th>\n",
       "      <th>price</th>\n",
       "    </tr>\n",
       "  </thead>\n",
       "  <tbody>\n",
       "    <tr>\n",
       "      <th>0</th>\n",
       "      <td>ca</td>\n",
       "      <td>mrs</td>\n",
       "      <td>grades_prek_2</td>\n",
       "      <td>53</td>\n",
       "      <td>math_science</td>\n",
       "      <td>appliedsciences health_lifescience</td>\n",
       "      <td>i fortunate enough use fairy tale stem kits cl...</td>\n",
       "      <td>725.05</td>\n",
       "    </tr>\n",
       "  </tbody>\n",
       "</table>\n",
       "</div>"
      ],
      "text/plain": [
       "  school_state teacher_prefix project_grade_category  \\\n",
       "0           ca            mrs          grades_prek_2   \n",
       "\n",
       "   teacher_number_of_previously_posted_projects clean_categories  \\\n",
       "0                                            53     math_science   \n",
       "\n",
       "                  clean_subcategories  \\\n",
       "0  appliedsciences health_lifescience   \n",
       "\n",
       "                                               essay   price  \n",
       "0  i fortunate enough use fairy tale stem kits cl...  725.05  "
      ]
     },
     "execution_count": 170,
     "metadata": {},
     "output_type": "execute_result"
    }
   ],
   "source": [
    "y = data['project_is_approved'].values\n",
    "X = data.drop(['project_is_approved'],axis=1) \n",
    "X.head(1)"
   ]
  },
  {
   "cell_type": "markdown",
   "metadata": {
    "id": "WtVV13Fyb3dH"
   },
   "source": [
    "<h2>1.2 Splitting data into Train and cross validation(or test): Stratified Sampling</h2>"
   ]
  },
  {
   "cell_type": "code",
   "execution_count": 172,
   "metadata": {
    "id": "i-PyprDNb3dI"
   },
   "outputs": [
    {
     "name": "stdout",
     "output_type": "stream",
     "text": [
      "(73196, 8) (73196,)\n",
      "(36052, 8) (36052,)\n"
     ]
    }
   ],
   "source": [
    "# Split the dataset \n",
    "from sklearn.model_selection import train_test_split\n",
    "from sklearn.feature_extraction.text import CountVectorizer\n",
    "\n",
    "\n",
    "X_train, X_test, y_train, y_test = train_test_split(X, y, test_size=0.33, stratify=y)\n",
    "\n",
    "print(X_train.shape, y_train.shape)\n",
    "print(X_test.shape, y_test.shape)"
   ]
  },
  {
   "cell_type": "markdown",
   "metadata": {
    "id": "EnZwVNULb3dO"
   },
   "source": [
    "<h2>1.3 Make Data Model Ready: encoding essay, and project_title</h2>"
   ]
  },
  {
   "cell_type": "code",
   "execution_count": 173,
   "metadata": {},
   "outputs": [
    {
     "name": "stdout",
     "output_type": "stream",
     "text": [
      "After Vectorization of feature essay:\n",
      "(73196, 5000) (73196,)\n",
      "(36052, 5000) (36052,)\n"
     ]
    }
   ],
   "source": [
    "# Apply Bag of Words (BOW) vectorization on 'Preprocessed_Essay' \n",
    "vectorizer = CountVectorizer(min_df=10, ngram_range=(1,4), max_features=5000)\n",
    "vectorizer.fit(X_train['essay'].values)\n",
    "\n",
    "X_train_essay_bow = vectorizer.transform(X_train['essay'].values)\n",
    "X_test_essay_bow = vectorizer.transform(X_test['essay'].values)\n",
    "\n",
    "print(\"After Vectorization of feature essay:\")\n",
    "print(X_train_essay_bow.shape, y_train.shape)\n",
    "print(X_test_essay_bow.shape, y_test.shape)\n"
   ]
  },
  {
   "cell_type": "code",
   "execution_count": 174,
   "metadata": {},
   "outputs": [
    {
     "name": "stdout",
     "output_type": "stream",
     "text": [
      "After TF-IDF vectorization:\n",
      "(73196, 5000) (73196,)\n",
      "(36052, 5000) (36052,)\n"
     ]
    }
   ],
   "source": [
    "# Apply TF-IDF vectorization on 'Preprocessed_Essay' \n",
    "from sklearn.feature_extraction.text import TfidfVectorizer\n",
    "tfidf_vectorizer = TfidfVectorizer(min_df=10,ngram_range=(1,4), max_features=5000)\n",
    "tfidf_vectorizer.fit(X_train['essay'].values)\n",
    "\n",
    "X_train_essay_tfidf = tfidf_vectorizer.transform(X_train['essay'].values)\n",
    "X_test_essay_tfidf = tfidf_vectorizer.transform(X_test['essay'].values)\n",
    "\n",
    "print(\"After TF-IDF vectorization:\")\n",
    "print(X_train_essay_tfidf.shape, y_train.shape)\n",
    "print(X_test_essay_tfidf.shape, y_test.shape)"
   ]
  },
  {
   "cell_type": "markdown",
   "metadata": {
    "id": "bGy86kgHb3dX"
   },
   "source": [
    "<h2>1.4 Make Data Model Ready: encoding numerical, categorical features</h2>"
   ]
  },
  {
   "cell_type": "markdown",
   "metadata": {},
   "source": [
    "<h3>1.4.1 encoding categorical features: School State</h3>"
   ]
  },
  {
   "cell_type": "code",
   "execution_count": 175,
   "metadata": {
    "id": "EfXkofX1b3da"
   },
   "outputs": [
    {
     "name": "stdout",
     "output_type": "stream",
     "text": [
      "After Vectorization School State feature: \n",
      "(73196, 51) (73196,)\n",
      "(36052, 51) (73196,)\n",
      "['ak' 'al' 'ar' 'az' 'ca' 'co' 'ct' 'dc' 'de' 'fl' 'ga' 'hi' 'ia' 'id'\n",
      " 'il' 'in' 'ks' 'ky' 'la' 'ma' 'md' 'me' 'mi' 'mn' 'mo' 'ms' 'mt' 'nc'\n",
      " 'nd' 'ne' 'nh' 'nj' 'nm' 'nv' 'ny' 'oh' 'ok' 'or' 'pa' 'ri' 'sc' 'sd'\n",
      " 'tn' 'tx' 'ut' 'va' 'vt' 'wa' 'wi' 'wv' 'wy']\n"
     ]
    }
   ],
   "source": [
    "# Apply One-Hot Encoding on the categorical features either using OneHotEncoder() (or) CountVectorizer(binary=True)\n",
    "# Apply Normalization on the numerical features using Normalizer().\n",
    "vectorizer_ss = CountVectorizer(binary=True)\n",
    "vectorizer_ss.fit(X_train['school_state'].values)\n",
    "\n",
    "X_train_sState_ohe = vectorizer_ss.transform(X_train['school_state'].values)\n",
    "X_test_sState_ohe = vectorizer_ss.transform(X_test['school_state'].values)\n",
    "\n",
    "print(\"After Vectorization School State feature: \")\n",
    "print(X_train_sState_ohe.shape, y_train.shape)\n",
    "print(X_test_sState_ohe.shape, y_train.shape)\n",
    "print(vectorizer_ss.get_feature_names_out())"
   ]
  },
  {
   "cell_type": "markdown",
   "metadata": {},
   "source": [
    "<h3>1.4.2 encoding categorical features: teacher_prefix</h3>"
   ]
  },
  {
   "cell_type": "code",
   "execution_count": 176,
   "metadata": {},
   "outputs": [
    {
     "name": "stdout",
     "output_type": "stream",
     "text": [
      "After vectorization of a feature: teacher_prefix:\n",
      "(73196, 5) (73196,)\n",
      "(36052, 5) (36052,)\n",
      "['dr' 'mr' 'mrs' 'ms' 'teacher']\n"
     ]
    }
   ],
   "source": [
    "vectorizer_tp = CountVectorizer(binary=True)\n",
    "vectorizer_tp.fit(X_train['teacher_prefix'].values)\n",
    "\n",
    "X_train_teacher_ohe = vectorizer_tp.transform(X_train['teacher_prefix'].values)\n",
    "X_test_teacher_ohe = vectorizer_tp.transform(X_test['teacher_prefix'].values)\n",
    "\n",
    "print(\"After vectorization of a feature: teacher_prefix:\")\n",
    "print(X_train_teacher_ohe.shape, y_train.shape)\n",
    "print(X_test_teacher_ohe.shape, y_test.shape)\n",
    "print(vectorizer_tp.get_feature_names_out())"
   ]
  },
  {
   "cell_type": "markdown",
   "metadata": {},
   "source": [
    "<h3>1.4.3 encoding categorical features: project_grade_category</h3>"
   ]
  },
  {
   "cell_type": "code",
   "execution_count": 177,
   "metadata": {},
   "outputs": [
    {
     "name": "stdout",
     "output_type": "stream",
     "text": [
      "After vectrorization of feature: project_grade_category:\n",
      "(73196, 4) (73196,)\n",
      "(36052, 4) (36052,)\n",
      "['grades_3_5' 'grades_6_8' 'grades_9_12' 'grades_prek_2']\n"
     ]
    }
   ],
   "source": [
    "vectorizer_grade = CountVectorizer(binary=True)\n",
    "vectorizer_grade.fit(X_train['project_grade_category'].values)\n",
    "\n",
    "X_train_grade_ohe = vectorizer_grade.transform(X_train['project_grade_category'].values)\n",
    "X_test_grade_ohe = vectorizer_grade.transform(X_test['project_grade_category'].values)\n",
    "\n",
    "print(\"After vectrorization of feature: project_grade_category:\")\n",
    "print(X_train_grade_ohe.shape, y_train.shape)\n",
    "print(X_test_grade_ohe.shape, y_test.shape)\n",
    "print(vectorizer_grade.get_feature_names_out())"
   ]
  },
  {
   "cell_type": "markdown",
   "metadata": {},
   "source": [
    "<h3>1.4.4 encoing categoriacal feature: clean_categories</h3>"
   ]
  },
  {
   "cell_type": "code",
   "execution_count": 178,
   "metadata": {},
   "outputs": [
    {
     "name": "stdout",
     "output_type": "stream",
     "text": [
      "After vectorization of feature: clean_categories\n",
      "(73196, 9) (73196,)\n",
      "(36052, 9) (36052,)\n",
      "['appliedlearning' 'care_hunger' 'health_sports' 'history_civics'\n",
      " 'literacy_language' 'math_science' 'music_arts' 'specialneeds' 'warmth']\n"
     ]
    }
   ],
   "source": [
    "vectorizer_categories = CountVectorizer(binary=True)\n",
    "vectorizer_categories.fit(X_train['clean_categories'].values)\n",
    "\n",
    "X_train_categories_ohe = vectorizer_categories.transform(X_train['clean_categories'].values)\n",
    "X_test_categories_ohe = vectorizer_categories.transform(X_test['clean_categories'].values)\n",
    "\n",
    "print(\"After vectorization of feature: clean_categories\")\n",
    "print(X_train_categories_ohe.shape, y_train.shape)\n",
    "print(X_test_categories_ohe.shape, y_test.shape)\n",
    "print(vectorizer_categories.get_feature_names_out())"
   ]
  },
  {
   "cell_type": "markdown",
   "metadata": {},
   "source": [
    "<h3> 1.4.5 encoding categorical feature: clean_subcategories </h3>"
   ]
  },
  {
   "cell_type": "code",
   "execution_count": 179,
   "metadata": {},
   "outputs": [
    {
     "name": "stdout",
     "output_type": "stream",
     "text": [
      "After vectorization of feature: clean_subcategories\n",
      "(73196, 30) (73196,)\n",
      "(36052, 30) (36052,)\n",
      "['appliedsciences' 'care_hunger' 'charactereducation' 'civics_government'\n",
      " 'college_careerprep' 'communityservice' 'earlydevelopment' 'economics'\n",
      " 'environmentalscience' 'esl' 'extracurricular' 'financialliteracy'\n",
      " 'foreignlanguages' 'gym_fitness' 'health_lifescience' 'health_wellness'\n",
      " 'history_geography' 'literacy' 'literature_writing' 'mathematics' 'music'\n",
      " 'nutritioneducation' 'other' 'parentinvolvement' 'performingarts'\n",
      " 'socialsciences' 'specialneeds' 'teamsports' 'visualarts' 'warmth']\n"
     ]
    }
   ],
   "source": [
    "vectorizer_subcategories = CountVectorizer(binary=True)\n",
    "vectorizer_subcategories.fit(X_train['clean_subcategories'].values)\n",
    "\n",
    "X_train_subcategories_ohe = vectorizer_subcategories.transform(X_train['clean_subcategories'].values)\n",
    "X_test_subcategories_ohe = vectorizer_subcategories.transform(X_test['clean_subcategories'].values)\n",
    "\n",
    "print(\"After vectorization of feature: clean_subcategories\")\n",
    "print(X_train_subcategories_ohe.shape, y_train.shape)\n",
    "print(X_test_subcategories_ohe.shape, y_test.shape)\n",
    "print(vectorizer_subcategories.get_feature_names_out())\n"
   ]
  },
  {
   "cell_type": "markdown",
   "metadata": {},
   "source": [
    "<h3>1.4.6 encoding Numerical feature: price</h3>"
   ]
  },
  {
   "cell_type": "code",
   "execution_count": 180,
   "metadata": {},
   "outputs": [
    {
     "name": "stdout",
     "output_type": "stream",
     "text": [
      "After vectorizing numerical Feature: Price\n",
      "(73196, 1) (73196,)\n",
      "(36052, 1) (36052,)\n"
     ]
    }
   ],
   "source": [
    "from sklearn.preprocessing import Normalizer\n",
    "normalizer_Price = Normalizer()\n",
    "\n",
    "X_train_price_norm = normalizer_Price.fit_transform(X_train['price'].values.reshape(1,-1)).reshape(-1,1)\n",
    "X_test_price_norm = normalizer_Price.fit_transform(X_test['price'].values.reshape(1,-1)).reshape(-1,1)\n",
    "\n",
    "print(\"After vectorizing numerical Feature: Price\")\n",
    "print(X_train_price_norm.shape, y_train.shape)\n",
    "print(X_test_price_norm.shape, y_test.shape)"
   ]
  },
  {
   "cell_type": "markdown",
   "metadata": {},
   "source": [
    "<h3>1.4.7 encoding Numerical feature: teacher_number_of_previously_posted_projects</h3>"
   ]
  },
  {
   "cell_type": "code",
   "execution_count": 181,
   "metadata": {},
   "outputs": [
    {
     "name": "stdout",
     "output_type": "stream",
     "text": [
      "After vectorizing numerical feature: teacher_number_of_previously_posted_projects\n",
      "(73196, 1) (73196,)\n",
      "(36052, 1) (36052,)\n"
     ]
    }
   ],
   "source": [
    "normalizer_tnoppp = Normalizer()\n",
    "\n",
    "X_train_teacher_tnoppp = normalizer_tnoppp.fit_transform(X_train['teacher_number_of_previously_posted_projects'].values.reshape(1,-1)).reshape(-1,1)\n",
    "X_test_teacher_tnoppp = normalizer_tnoppp.fit_transform(X_test['teacher_number_of_previously_posted_projects'].values.reshape(1,-1)).reshape(-1,1)\n",
    "\n",
    "\n",
    "print(\"After vectorizing numerical feature: teacher_number_of_previously_posted_projects\")\n",
    "print(X_train_teacher_tnoppp.shape, y_train.shape)\n",
    "print(X_test_teacher_tnoppp.shape, y_test.shape)"
   ]
  },
  {
   "cell_type": "markdown",
   "metadata": {},
   "source": [
    "<h3>1.4.8 concatinating all the features </h3>"
   ]
  },
  {
   "cell_type": "code",
   "execution_count": 182,
   "metadata": {},
   "outputs": [
    {
     "name": "stdout",
     "output_type": "stream",
     "text": [
      "Final Data matrix\n",
      "(73196, 5101) (73196,)\n",
      "(36052, 5101) (36052,)\n"
     ]
    }
   ],
   "source": [
    "# merge two sparse matrices: https://stackoverflow.com/a/19710648/4084039\n",
    "from scipy.sparse import hstack\n",
    "X_tr = hstack((X_train_essay_bow, X_train_sState_ohe, X_train_teacher_ohe, X_train_grade_ohe, X_train_teacher_tnoppp, X_train_categories_ohe, X_train_subcategories_ohe, X_train_price_norm)).tocsr()\n",
    "X_te = hstack((X_test_essay_bow, X_test_sState_ohe, X_test_teacher_ohe, X_test_grade_ohe, X_test_teacher_tnoppp, X_test_categories_ohe, X_test_subcategories_ohe, X_test_price_norm)).tocsr()\n",
    "\n",
    "\n",
    "print(\"Final Data matrix\")\n",
    "print(X_tr.shape, y_train.shape)\n",
    "print(X_te.shape, y_test.shape)"
   ]
  },
  {
   "cell_type": "markdown",
   "metadata": {
    "id": "yYHPYadYb3dh"
   },
   "source": [
    "<h2>1.5 Appling NB on different kind of featurization</h2>"
   ]
  },
  {
   "cell_type": "markdown",
   "metadata": {},
   "source": [
    "#### Set 1"
   ]
  },
  {
   "cell_type": "code",
   "execution_count": 183,
   "metadata": {},
   "outputs": [
    {
     "data": {
      "image/png": "[encoded data removed]",
      "text/plain": [
       "<Figure size 432x288 with 1 Axes>"
      ]
     },
     "metadata": {
      "needs_background": "light"
     },
     "output_type": "display_data"
    },
    {
     "name": "stdout",
     "output_type": "stream",
     "text": [
      "Best Alpha value is:  1e-05  and the best score is:  0.6912127955806389\n"
     ]
    }
   ],
   "source": [
    "# Perform Hyperparameter Tuning.\n",
    "# Plot the training and the CV AUC scores, for different values of 'alpha', using a 2D line plot\n",
    "# Obtain the optimal value for 'alpha' and using the obtained optimal 'alpha' value, fit a multinomial naive bayes model, on the train data\n",
    "\n",
    "from sklearn.model_selection import GridSearchCV\n",
    "from scipy.stats import randint as sp_randint\n",
    "from sklearn.model_selection import RandomizedSearchCV\n",
    "from sklearn.naive_bayes import MultinomialNB\n",
    "import pandas as pd\n",
    "import matplotlib.pyplot as plt\n",
    "\n",
    "mnb = MultinomialNB()\n",
    "# mnb = MultinomialNB(class_prior = [0.5, 0.5])\n",
    "parameters = {'alpha' : [0.00001,0.0005, 0.0001,0.005,0.001,0.05,0.01,0.1,0.5,1,5,10,50,100]}\n",
    "clf = RandomizedSearchCV(mnb, parameters, cv=10, scoring='roc_auc', return_train_score=True)\n",
    "clf.fit(X_tr, y_train) \n",
    "\n",
    "results = pd.DataFrame.from_dict(clf.cv_results_)\n",
    "results = results.sort_values(by='param_alpha')\n",
    "\n",
    "train_auc = results['mean_train_score']\n",
    "train_auc_std = results['std_train_score']\n",
    "cv_auc = results['mean_test_score']\n",
    "cv_auc_std = results['std_test_score']\n",
    "alpha = results['param_alpha']\n",
    "\n",
    "# log(alpha) on your X-axis so that it will be more readable\n",
    "alpha_log = np.log(alpha.astype(float))\n",
    "\n",
    "plt.plot(alpha_log, train_auc, label='Train_AUC')\n",
    "\n",
    "plt.plot(alpha_log, cv_auc, label='CV_AUC')\n",
    "\n",
    "plt.scatter(alpha_log, train_auc, label='Train AUC points')\n",
    "plt.scatter(alpha_log, cv_auc, label='CV AUC points')\n",
    "\n",
    "plt.legend()\n",
    "plt.xlabel(\"alpha: hyperparameter\")\n",
    "plt.ylabel(\"AUC\")\n",
    "plt.title(\"Hyper parameter vs AUC plot\")\n",
    "plt.grid()\n",
    "plt.show()\n",
    "\n",
    "print(\"Best Alpha value is: \", clf.best_params_['alpha'], \" and the best score is: \", clf.best_score_)"
   ]
  },
  {
   "cell_type": "code",
   "execution_count": 184,
   "metadata": {},
   "outputs": [
    {
     "data": {
      "image/png": "[encoded data removed]",
      "text/plain": [
       "<Figure size 432x288 with 1 Axes>"
      ]
     },
     "metadata": {
      "needs_background": "light"
     },
     "output_type": "display_data"
    }
   ],
   "source": [
    "# Plot the ROC-AUC curves using the probability predictions made on train and test data.\n",
    "from sklearn.metrics import roc_curve, auc\n",
    "\n",
    "best_alpha_bow = 0.0005\n",
    "mnb_using_bow = MultinomialNB(alpha = best_alpha_bow, class_prior=[0.5,0.5])\n",
    "mnb_using_bow.fit(X_tr, y_train)\n",
    "\n",
    "y_train_pred = mnb_using_bow.predict_proba(X_tr)[:,1]\n",
    "y_test_pred = mnb_using_bow.predict_proba(X_te)[:,1]\n",
    "\n",
    "train_fpr, train_tpr, tr_thresholds = roc_curve(y_train, y_train_pred)\n",
    "test_fpr, test_tpr, te_thresholds = roc_curve(y_test, y_test_pred)\n",
    "\n",
    "test_auc_bow = auc(test_fpr, test_tpr)\n",
    "\n",
    "plt.plot(train_fpr, train_tpr, label=\"train AUC = \"+str(auc(train_fpr, train_tpr)))\n",
    "plt.plot(test_fpr, test_tpr, label=\"test AUC = \"+str(auc(test_fpr, test_tpr)))\n",
    "plt.legend()\n",
    "\n",
    "plt.xlabel(\"False Positive Rate (FPR)\")\n",
    "plt.ylabel(\"True Positive Rate (TPR)\")\n",
    "plt.title(\"AUC\")\n",
    "plt.grid()\n",
    "plt.show()"
   ]
  },
  {
   "cell_type": "code",
   "execution_count": 185,
   "metadata": {},
   "outputs": [],
   "source": [
    "def find_best_threshold(threshold, fpr, tpr):\n",
    "    #(tpr*(1-fpr) will be maximum for very low fpr and very high tpr)\n",
    "    t = threshold[np.argmax(tpr*(1-fpr))]\n",
    "    print(\"the maximum value of tpr*(1-fpr) \", max(tpr*(1-fpr)), \"for threshold\", np.round(t,3))\n",
    "    return t\n",
    "\n",
    "def predict_with_best_t(proba, threshold):\n",
    "    predictions = []\n",
    "    for i in proba:\n",
    "        if i >= threshold:\n",
    "            predictions.append(1)\n",
    "        else:\n",
    "            predictions.append(0)\n",
    "    return predictions\n"
   ]
  },
  {
   "cell_type": "code",
   "execution_count": 186,
   "metadata": {},
   "outputs": [
    {
     "name": "stdout",
     "output_type": "stream",
     "text": [
      "the maximum value of tpr*(1-fpr)  0.43796577272300635 for threshold 0.455\n",
      "Train confusion matrix\n",
      "[[ 7336  3747]\n",
      " [21015 41098]]\n",
      "Test confusion matrix\n",
      "[[ 3517  1942]\n",
      " [10634 19959]]\n",
      "====================================================================================================\n"
     ]
    },
    {
     "data": {
      "image/png": "[encoded data removed]",
      "text/plain": [
       "<Figure size 432x288 with 2 Axes>"
      ]
     },
     "metadata": {
      "needs_background": "light"
     },
     "output_type": "display_data"
    },
    {
     "name": "stdout",
     "output_type": "stream",
     "text": [
      "====================================================================================================\n"
     ]
    },
    {
     "data": {
      "image/png": "[encoded data removed]",
      "text/plain": [
       "<Figure size 432x288 with 2 Axes>"
      ]
     },
     "metadata": {
      "needs_background": "light"
     },
     "output_type": "display_data"
    }
   ],
   "source": [
    "# Pick the best threshold among the probability estimates, such that it has to yield maximum value for TPR*(1-FPR)\n",
    "# Plot the confusion matrices(each for train and test data) afer encoding the predicted class labels, on the basis of the best threshod probability estimate.\n",
    "\n",
    "from sklearn.metrics import confusion_matrix\n",
    "import numpy as np\n",
    "import seaborn as sns\n",
    "\n",
    "\n",
    "best_t = find_best_threshold(tr_thresholds, train_fpr, train_tpr)\n",
    "print(\"Train confusion matrix\")\n",
    "train_confusion_matrix = confusion_matrix(y_train, predict_with_best_t(y_train_pred, best_t))\n",
    "print(train_confusion_matrix)\n",
    "\n",
    "print(\"Test confusion matrix\")\n",
    "test_confusion_matrix = confusion_matrix(y_test, predict_with_best_t(y_test_pred, best_t))\n",
    "print(test_confusion_matrix)\n",
    "\n",
    "print(\"=\"*100)\n",
    "sns.heatmap(train_confusion_matrix, annot=True, fmt='d', cmap='Blues')\n",
    "plt.xlabel(\"Predicted\")\n",
    "plt.ylabel(\"Actual\")\n",
    "plt.title(\"train confusion matrix\")\n",
    "plt.show()\n",
    "\n",
    "print(\"=\"*100)\n",
    "sns.heatmap(test_confusion_matrix, annot=True, fmt='d', cmap='Blues')\n",
    "plt.xlabel(\"Predicted\")\n",
    "plt.ylabel(\"Actual\")\n",
    "plt.title(\"test confusion matrix\")\n",
    "plt.show()"
   ]
  },
  {
   "cell_type": "markdown",
   "metadata": {},
   "source": [
    "#### Set 2"
   ]
  },
  {
   "cell_type": "markdown",
   "metadata": {},
   "source": [
    "<h3>concatinating all the features for set 2 </h3>"
   ]
  },
  {
   "cell_type": "code",
   "execution_count": 187,
   "metadata": {},
   "outputs": [
    {
     "name": "stdout",
     "output_type": "stream",
     "text": [
      "Final Data matrix\n",
      "(73196, 5101) (73196,)\n",
      "(36052, 5101) (36052,)\n"
     ]
    }
   ],
   "source": [
    "# merge two sparse matrices: https://stackoverflow.com/a/19710648/4084039\n",
    "from scipy.sparse import hstack\n",
    "X_tr = hstack((X_train_essay_tfidf, X_train_sState_ohe, X_train_teacher_ohe, X_train_grade_ohe, X_train_teacher_tnoppp, X_train_categories_ohe, X_train_subcategories_ohe, X_train_price_norm)).tocsr()\n",
    "X_te = hstack((X_test_essay_tfidf, X_test_sState_ohe, X_test_teacher_ohe, X_test_grade_ohe, X_test_teacher_tnoppp, X_test_categories_ohe, X_test_subcategories_ohe, X_test_price_norm)).tocsr()\n",
    "\n",
    "\n",
    "print(\"Final Data matrix\")\n",
    "print(X_tr.shape, y_train.shape)\n",
    "print(X_te.shape, y_test.shape)"
   ]
  },
  {
   "cell_type": "code",
   "execution_count": 188,
   "metadata": {},
   "outputs": [
    {
     "data": {
      "image/png": "[encoded data removed]",
      "text/plain": [
       "<Figure size 432x288 with 1 Axes>"
      ]
     },
     "metadata": {
      "needs_background": "light"
     },
     "output_type": "display_data"
    },
    {
     "name": "stdout",
     "output_type": "stream",
     "text": [
      "Best Alpha value is:  0.0001  and the best score is:  0.6711143773770846\n"
     ]
    }
   ],
   "source": [
    "# Perform Hyperparameter Tuning.\n",
    "# Plot the training and the CV AUC scores, for different values of 'alpha', using a 2D line plot\n",
    "mnb = MultinomialNB()\n",
    "# mnb = MultinomialNB(class_prior = [0.5, 0.5])\n",
    "parameters = {'alpha' : [0.00001,0.0005, 0.0001,0.005,0.001,0.05,0.01,0.1,0.5,1,5,10,50,100]}\n",
    "clf = RandomizedSearchCV(mnb, parameters, cv=10, scoring='roc_auc', return_train_score=True)\n",
    "clf.fit(X_tr, y_train) \n",
    "\n",
    "results = pd.DataFrame.from_dict(clf.cv_results_)\n",
    "results = results.sort_values(by='param_alpha')\n",
    "\n",
    "train_auc = results['mean_train_score']\n",
    "cv_auc = results['mean_test_score']\n",
    "alpha = results['param_alpha']\n",
    "\n",
    "# log(alpha) on your X-axis so that it will be more readable\n",
    "alpha_log = np.log(alpha.astype(float))\n",
    "\n",
    "plt.plot(alpha_log, train_auc, label='Train_AUC')\n",
    "\n",
    "plt.plot(alpha_log, cv_auc, label='CV_AUC')\n",
    "\n",
    "plt.scatter(alpha_log, train_auc, label='Train AUC points')\n",
    "plt.scatter(alpha_log, cv_auc, label='CV AUC points')\n",
    "\n",
    "plt.legend()\n",
    "plt.xlabel(\"alpha: hyperparameter\")\n",
    "plt.ylabel(\"AUC\")\n",
    "plt.title(\"Hyper parameter vs AUC plot\")\n",
    "plt.grid()\n",
    "plt.show()\n",
    "\n",
    "print(\"Best Alpha value is: \", clf.best_params_['alpha'], \" and the best score is: \", clf.best_score_)\n"
   ]
  },
  {
   "cell_type": "code",
   "execution_count": 189,
   "metadata": {},
   "outputs": [
    {
     "data": {
      "image/png": "[encoded data removed]",
      "text/plain": [
       "<Figure size 432x288 with 1 Axes>"
      ]
     },
     "metadata": {
      "needs_background": "light"
     },
     "output_type": "display_data"
    }
   ],
   "source": [
    "# Obtain the optimal value for 'alpha' and using the obtained optimal 'alpha' value, fit a multinomial naive bayes model, on the train data,\n",
    "# Make class label and probability predictions on the train and test data.\n",
    "# Plot the ROC-AUC curves using the probability predictions made on train and test data.\n",
    "best_alpha_tfidf = 0.00001\n",
    "mnb_using_tfidf = MultinomialNB(alpha = best_alpha_tfidf, class_prior=[0.5,0.5])\n",
    "mnb_using_tfidf.fit(X_tr, y_train)\n",
    "\n",
    "y_train_pred = mnb_using_tfidf.predict_proba(X_tr)[:,1]\n",
    "y_test_pred = mnb_using_tfidf.predict_proba(X_te)[:,1]\n",
    "\n",
    "train_fpr, train_tpr, tr_thresholds = roc_curve(y_train, y_train_pred)\n",
    "test_fpr, test_tpr, te_thresholds = roc_curve(y_test, y_test_pred)\n",
    "\n",
    "test_auc_tfidf = auc(test_fpr, test_tpr)\n",
    "\n",
    "plt.plot(train_fpr, train_tpr, label=\"train AUC = \"+str(auc(train_fpr, train_tpr)))\n",
    "plt.plot(test_fpr, test_tpr, label=\"test AUC = \"+str(auc(test_fpr, test_tpr)))\n",
    "plt.legend()\n",
    "\n",
    "plt.xlabel(\"False Positive Rate (FPR)\")\n",
    "plt.ylabel(\"True Positive Rate (TPR)\")\n",
    "plt.title(\"AUC\")\n",
    "plt.grid()\n",
    "plt.show()\n",
    "\n"
   ]
  },
  {
   "cell_type": "code",
   "execution_count": 190,
   "metadata": {},
   "outputs": [
    {
     "name": "stdout",
     "output_type": "stream",
     "text": [
      "the maximum value of tpr*(1-fpr)  0.4140960390030204 for threshold 0.506\n",
      "Train confusion matrix\n",
      "[[ 7333  3750]\n",
      " [23239 38874]]\n",
      "Test confusion matrix\n",
      "[[ 3495  1964]\n",
      " [11786 18807]]\n",
      "====================================================================================================\n"
     ]
    },
    {
     "data": {
      "image/png": "[encoded data removed]",
      "text/plain": [
       "<Figure size 432x288 with 2 Axes>"
      ]
     },
     "metadata": {
      "needs_background": "light"
     },
     "output_type": "display_data"
    },
    {
     "name": "stdout",
     "output_type": "stream",
     "text": [
      "====================================================================================================\n"
     ]
    },
    {
     "data": {
      "image/png": "[encoded data removed]",
      "text/plain": [
       "<Figure size 432x288 with 2 Axes>"
      ]
     },
     "metadata": {
      "needs_background": "light"
     },
     "output_type": "display_data"
    }
   ],
   "source": [
    "# Pick the best threshold among the probability estimates, such that it has to yield maximum value for TPR*(1-FPR)\n",
    "# Plot the confusion matrices(each for train and test data) afer encoding the predicted class labels, on the basis of the best threshod probability estimate.\n",
    "\n",
    "\n",
    "best_t = find_best_threshold(tr_thresholds, train_fpr, train_tpr)\n",
    "\n",
    "print(\"Train confusion matrix\")\n",
    "train_confusion_matrix = confusion_matrix(y_train, predict_with_best_t(y_train_pred, best_t))\n",
    "print(train_confusion_matrix)\n",
    "\n",
    "print(\"Test confusion matrix\")\n",
    "test_confusion_matrix = confusion_matrix(y_test, predict_with_best_t(y_test_pred, best_t))\n",
    "print(test_confusion_matrix)\n",
    "\n",
    "print(\"=\"*100)\n",
    "sns.heatmap(train_confusion_matrix, annot=True, fmt='d', cmap='Blues')\n",
    "plt.xlabel(\"Predicted\")\n",
    "plt.ylabel(\"Actual\")\n",
    "plt.title(\"train confusion matrix\")\n",
    "plt.show()\n",
    "\n",
    "print(\"=\"*100)\n",
    "sns.heatmap(test_confusion_matrix, annot=True, fmt='d', cmap='Blues')\n",
    "plt.xlabel(\"Predicted\")\n",
    "plt.ylabel(\"Actual\")\n",
    "plt.title(\"test confusion matrix\")\n",
    "plt.show()"
   ]
  },
  {
   "cell_type": "markdown",
   "metadata": {},
   "source": [
    "<h3>Top 20 features from feature Set 2 using absolute values of feature_log_prob_ parameter of MultinomialNB</h3>"
   ]
  },
  {
   "cell_type": "code",
   "execution_count": 191,
   "metadata": {},
   "outputs": [
    {
     "name": "stdout",
     "output_type": "stream",
     "text": [
      "Total Features set 2:  5101\n",
      "====================================================================================================\n",
      "\n",
      "Top 20 positive features:\n",
      "------------------------------\n",
      "health_wellness\n",
      "appliedsciences\n",
      "mr\n",
      "grades_9_12\n",
      "appliedlearning\n",
      "students\n",
      "specialneeds\n",
      "specialneeds\n",
      "health_sports\n",
      "ca\n",
      "grades_6_8\n",
      "literature_writing\n",
      "mathematics\n",
      "literacy\n",
      "grades_3_5\n",
      "ms\n",
      "math_science\n",
      "grades_prek_2\n",
      "literacy_language\n",
      "mrs\n",
      "====================================================================================================\n",
      "\n",
      "Top 20 negative features:\n",
      "------------------------------\n",
      "music_arts\n",
      "mr\n",
      "grades_9_12\n",
      "appliedsciences\n",
      "students\n",
      "appliedlearning\n",
      "health_sports\n",
      "ca\n",
      "specialneeds\n",
      "specialneeds\n",
      "grades_6_8\n",
      "literature_writing\n",
      "literacy\n",
      "mathematics\n",
      "grades_3_5\n",
      "ms\n",
      "math_science\n",
      "grades_prek_2\n",
      "literacy_language\n",
      "mrs\n"
     ]
    }
   ],
   "source": [
    "# Either from set 1 (or) set 2, print the names of the top 20 features associated with the positive and negative classes each. (You have to print the names of the features, but not the indexes)\n",
    "# find the top 20 features from either from feature Set 1 or feature Set 2 using values of `feature_log_prob_ ` \n",
    "# parameter of `MultinomialNB` (https://scikit-learn.org/stable/modules/generated/sklearn.naive_bayes.MultinomialNB.html) and print BOTH positive as well as negative corresponding feature names.\n",
    "\n",
    "#creating a list to append all the features names that we created before\n",
    "all_features_set2 = []\n",
    "\n",
    "for feature_name in tfidf_vectorizer.get_feature_names_out():\n",
    "    all_features_set2.append(feature_name)\n",
    "\n",
    "for feature_name in vectorizer_ss.get_feature_names_out():\n",
    "    all_features_set2.append(feature_name)\n",
    "\n",
    "for feature_name in vectorizer_tp.get_feature_names_out():\n",
    "    all_features_set2.append(feature_name)\n",
    "    \n",
    "for feature_name in vectorizer_grade.get_feature_names_out():\n",
    "    all_features_set2.append(feature_name)\n",
    "\n",
    "all_features_set2.append(\"teacher_tnoppp\")\n",
    "\n",
    "for feature_name in vectorizer_categories.get_feature_names_out():\n",
    "    all_features_set2.append(feature_name)\n",
    "    \n",
    "for feature_name in vectorizer_subcategories.get_feature_names_out():\n",
    "    all_features_set2.append(feature_name)\n",
    "\n",
    "all_features_set2.append(\"price\")\n",
    "\n",
    "totalFeatureNames_set2 = len(all_features_set2)\n",
    "print(\"Total Features set 2: \", totalFeatureNames_set2)\n",
    "print(\"=\"*100)\n",
    "top_features_pos = np.argsort(mnb_using_tfidf.feature_log_prob_[1])[-20:]\n",
    "\n",
    "print(\"\\nTop 20 positive features:\")\n",
    "print(\"-\"*30)\n",
    "for i in top_features_pos:\n",
    "    print(all_features_set2[i])\n",
    "    \n",
    "print(\"=\"*100)\n",
    "\n",
    "print(\"\\nTop 20 negative features:\")\n",
    "print(\"-\"*30)\n",
    "top_features_neg = np.argsort(mnb_using_tfidf.feature_log_prob_[0])[-20:]\n",
    "for i in top_features_neg:\n",
    "    print(all_features_set2[i])\n",
    "    \n",
    "\n"
   ]
  },
  {
   "cell_type": "markdown",
   "metadata": {
    "id": "lS9hIHdib3dp"
   },
   "source": [
    "<h1>3. Summary</h1>"
   ]
  },
  {
   "cell_type": "code",
   "execution_count": 193,
   "metadata": {},
   "outputs": [
    {
     "name": "stdout",
     "output_type": "stream",
     "text": [
      "+------------+-------------------------+-------------------------+------+\n",
      "| Vectorizer |          Model          | Hyper Parameter (Alpha) | AUC  |\n",
      "+------------+-------------------------+-------------------------+------+\n",
      "|    BOW     | Multinomial Naive Bayes |          0.0005         | 0.69 |\n",
      "|   TF-IDF   | Multinomial Naive Bayes |          1e-05          | 0.67 |\n",
      "+------------+-------------------------+-------------------------+------+\n"
     ]
    }
   ],
   "source": [
    "#compare the final models (from set 1 and set 2), in terms of optimal hyperparameter value 'alpha', training AUC and test AUC scores.\n",
    "# Reference Link for Pretty table:  https://pypi.org/project/prettytable/\n",
    "from prettytable import PrettyTable\n",
    "x = PrettyTable()\n",
    "x.field_names = [\"Vectorizer\", \"Model\", \"Hyper Parameter (Alpha)\", \"AUC\"]\n",
    "\n",
    "x.add_row([\"BOW\", \"Multinomial Naive Bayes\", best_alpha_bow, round(test_auc_bow,2)])\n",
    "x.add_row([\"TF-IDF\", \"Multinomial Naive Bayes\", best_alpha_tfidf, round(test_auc_tfidf,2)])\n",
    "print(x)"
   ]
  },
  {
   "cell_type": "code",
   "execution_count": null,
   "metadata": {},
   "outputs": [],
   "source": []
  }
 ],
 "metadata": {
  "colab": {
   "collapsed_sections": [],
   "name": "6_Assignment_NB_Instructions.ipynb",
   "provenance": []
  },
  "kernelspec": {
   "display_name": "Python 3 (ipykernel)",
   "language": "python",
   "name": "python3"
  },
  "language_info": {
   "codemirror_mode": {
    "name": "ipython",
    "version": 3
   },
   "file_extension": ".py",
   "mimetype": "text/x-python",
   "name": "python",
   "nbconvert_exporter": "python",
   "pygments_lexer": "ipython3",
   "version": "3.9.12"
  }
 },
 "nbformat": 4,
 "nbformat_minor": 1
}
