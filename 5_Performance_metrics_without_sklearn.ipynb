{
 "cells": [
  {
   "cell_type": "markdown",
   "metadata": {
    "id": "s0Ej_bXyQvnV"
   },
   "source": [
    "# Compute performance metrics for the given Y and Y_score without sklearn"
   ]
  },
  {
   "cell_type": "code",
   "execution_count": 2,
   "metadata": {
    "id": "4CHb6NE7Qvnc"
   },
   "outputs": [],
   "source": [
    "import numpy as np\n",
    "import pandas as pd\n",
    "# other than these two you should not import any other packages"
   ]
  },
  {
   "cell_type": "markdown",
   "metadata": {
    "id": "KbsWXuDaQvnq"
   },
   "source": [
    "\n",
    "## A. Compute performance metrics for the given data '5_a.csv'\n",
    " <pre>  <b>Note 1:</b> in this data you can see number of positive points >> number of negatives points\n",
    "   <b>Note 2:</b> use pandas or numpy to read the data from <b>5_a.csv</b>\n",
    "   <b>Note 3:</b> you need to derive the class labels from given score</pre> $y^{pred}= \\text{[0 if y_score < 0.5 else 1]}$\n",
    "\n",
    "<pre>\n",
    "<ol>\n",
    "<li> Compute Confusion Matrix </li>\n",
    "<li> Compute F1 Score </li>\n",
    "<li> Compute AUC Score, you need to compute different thresholds and for each threshold compute tpr,fpr and then use               numpy.trapz(tpr_array, fpr_array) <a href='https://stackoverflow.com/q/53603376/4084039'>https://stackoverflow.com/q/53603376/4084039</a>, <a href='https://stackoverflow.com/a/39678975/4084039'>https://stackoverflow.com/a/39678975/4084039</a> Note: it should be numpy.trapz(tpr_array, fpr_array) not numpy.trapz(fpr_array, tpr_array)\n",
    "Note- Make sure that you arrange your probability scores in descending order while calculating AUC</li>\n",
    "<li> Compute Accuracy Score </li>\n",
    "</ol>\n",
    "</pre>"
   ]
  },
  {
   "cell_type": "code",
   "execution_count": 3,
   "metadata": {
    "id": "WaFLW7oBQvnt"
   },
   "outputs": [
    {
     "data": {
      "text/html": [
       "<div>\n",
       "<style scoped>\n",
       "    .dataframe tbody tr th:only-of-type {\n",
       "        vertical-align: middle;\n",
       "    }\n",
       "\n",
       "    .dataframe tbody tr th {\n",
       "        vertical-align: top;\n",
       "    }\n",
       "\n",
       "    .dataframe thead th {\n",
       "        text-align: right;\n",
       "    }\n",
       "</style>\n",
       "<table border=\"1\" class=\"dataframe\">\n",
       "  <thead>\n",
       "    <tr style=\"text-align: right;\">\n",
       "      <th></th>\n",
       "      <th>y</th>\n",
       "      <th>proba</th>\n",
       "    </tr>\n",
       "  </thead>\n",
       "  <tbody>\n",
       "    <tr>\n",
       "      <th>0</th>\n",
       "      <td>1.0</td>\n",
       "      <td>0.637387</td>\n",
       "    </tr>\n",
       "    <tr>\n",
       "      <th>1</th>\n",
       "      <td>1.0</td>\n",
       "      <td>0.635165</td>\n",
       "    </tr>\n",
       "    <tr>\n",
       "      <th>2</th>\n",
       "      <td>1.0</td>\n",
       "      <td>0.766586</td>\n",
       "    </tr>\n",
       "    <tr>\n",
       "      <th>3</th>\n",
       "      <td>1.0</td>\n",
       "      <td>0.724564</td>\n",
       "    </tr>\n",
       "    <tr>\n",
       "      <th>4</th>\n",
       "      <td>1.0</td>\n",
       "      <td>0.889199</td>\n",
       "    </tr>\n",
       "    <tr>\n",
       "      <th>5</th>\n",
       "      <td>1.0</td>\n",
       "      <td>0.601600</td>\n",
       "    </tr>\n",
       "    <tr>\n",
       "      <th>6</th>\n",
       "      <td>1.0</td>\n",
       "      <td>0.666323</td>\n",
       "    </tr>\n",
       "    <tr>\n",
       "      <th>7</th>\n",
       "      <td>1.0</td>\n",
       "      <td>0.567012</td>\n",
       "    </tr>\n",
       "    <tr>\n",
       "      <th>8</th>\n",
       "      <td>1.0</td>\n",
       "      <td>0.650230</td>\n",
       "    </tr>\n",
       "    <tr>\n",
       "      <th>9</th>\n",
       "      <td>1.0</td>\n",
       "      <td>0.829346</td>\n",
       "    </tr>\n",
       "  </tbody>\n",
       "</table>\n",
       "</div>"
      ],
      "text/plain": [
       "     y     proba\n",
       "0  1.0  0.637387\n",
       "1  1.0  0.635165\n",
       "2  1.0  0.766586\n",
       "3  1.0  0.724564\n",
       "4  1.0  0.889199\n",
       "5  1.0  0.601600\n",
       "6  1.0  0.666323\n",
       "7  1.0  0.567012\n",
       "8  1.0  0.650230\n",
       "9  1.0  0.829346"
      ]
     },
     "execution_count": 3,
     "metadata": {},
     "output_type": "execute_result"
    }
   ],
   "source": [
    "df_a=pd.read_csv('5_a.csv')\n",
    "df_a.head(10)"
   ]
  },
  {
   "cell_type": "code",
   "execution_count": 54,
   "metadata": {},
   "outputs": [
    {
     "name": "stdout",
     "output_type": "stream",
     "text": [
      "TNR:  0.0 FPR:  1.0  FNR:  0.0 TPR: 1.0\n",
      "F1_Score: 0.9950248756218906\n",
      "Accuracy: 0.9900990099009901\n",
      "AUC score: 0.48829900000000004\n"
     ]
    },
    {
     "data": {
      "text/plain": [
       "<function matplotlib.pyplot.show(close=None, block=None)>"
      ]
     },
     "execution_count": 54,
     "metadata": {},
     "output_type": "execute_result"
    },
    {
     "data": {
      "image/png": "[encoded data removed]",
      "text/plain": [
       "<Figure size 432x288 with 1 Axes>"
      ]
     },
     "metadata": {
      "needs_background": "light"
     },
     "output_type": "display_data"
    }
   ],
   "source": [
    "from random import sample\n",
    "import matplotlib.pyplot as plt\n",
    "y_pred = []\n",
    "for index, row in df_a.iterrows():\n",
    "    if(row['proba'] < 0.5):\n",
    "        y_pred.append(0.0)\n",
    "    else:\n",
    "        y_pred.append(1.0)\n",
    "df_a['y_pred'] = y_pred\n",
    "\n",
    "\n",
    "def confusion_matrix(y_actual, y_pred='y_pred'):\n",
    "    '''This method takes input as two numpy.ndarray and computes confusion matrix\n",
    "    and return TNR, FPR, FNR, TPR, TN, FP, FN, TP  in the order specified here'''\n",
    "    TN = 0\n",
    "    FN = 0\n",
    "    FP = 0 \n",
    "    TP = 0\n",
    "    if((type(y_actual) != type(y_pred)) and isinstance(y_actual, np.ndarray) and isinstance(y_pred, np.ndarray)):\n",
    "        print(\"invalid input, both inputs should be of same type i.e np.ndarray\")\n",
    "    elif(len(y_actual) != len(y_pred)):\n",
    "        print(\"inputs are not of same length, to comapre both inputs should be of same length.\")\n",
    "    else:\n",
    "        for i in range(len(y_actual)):\n",
    "            if(y_actual[i] == y_pred[i] and y_actual[i] == 0.0):\n",
    "                TN += 1\n",
    "            elif(y_actual[i] == y_pred[i] and y_actual[i] == 1.0):\n",
    "                TP += 1\n",
    "            elif(y_actual[i] != y_pred[i] and y_actual[i] == 0.0):\n",
    "                FP += 1\n",
    "            else:\n",
    "                FN += 1\n",
    "    P = FN + TP\n",
    "    N = TN + FP\n",
    "    TNR = TN/N ; FPR = FP/N; FNR = FN/P; TPR = TP/P\n",
    "    return TNR, FPR, FNR, TPR, TN, FP, FN, TP \n",
    "            \n",
    "\n",
    "    \n",
    "def precision(tp, fp):\n",
    "    '''This method takes input as true positive and false positive values as input\n",
    "    and calculates precision value'''\n",
    "    return tp/(tp+fp)\n",
    "\n",
    "def recall(tp, fn):\n",
    "    '''This method takes true positive and false negative as input and\n",
    "    calculates recall, in other words it's also called TPR '''\n",
    "    return tp/(tp+fn)\n",
    "\n",
    "def f1_score(tp, fp, fn):\n",
    "    '''This method takes true positive, false positive, false negative as input \n",
    "    and calculates f1_score metrics'''\n",
    "    pr = precision(tp, fp)\n",
    "    re = recall(tp, fn)\n",
    "    return (2*pr*re)/(pr+re)\n",
    "\n",
    "def accuracy(tp, N):\n",
    "    '''This method calculates accuracy score with input as true positive and length of inputs'''\n",
    "    return tp/N\n",
    "\n",
    "TNR, FPR, FNR, TPR, TN, FP, FN, TP  = confusion_matrix(df_a['y'].values, df_a['y_pred'].values)\n",
    "print('TNR: '+' '+str(TNR)+' '+'FPR: '+' '+str(FPR)+' '+' FNR: '+' '+str(FNR)+' '+'TPR:'+' '+str(TPR))\n",
    "\n",
    "f1_score = f1_score(TP, FP, FN)\n",
    "print(\"F1_Score: \"+str(f1_score))\n",
    "\n",
    "accuracy = accuracy(TP, TN+FP+FN+TP)\n",
    "print(\"Accuracy: \"+str(accuracy))\n",
    "\n",
    "def custom_AUC(y_actual, proba):\n",
    "    '''This method takes y_actual and probability scores as input and returns AUC score'''\n",
    "    FPRList = []\n",
    "    TPRList = []\n",
    "    _nUiqueEle = np.sort(list(set(proba)), axis = None, kind = 'quicksort')[::-1]\n",
    "    for pIndex in range(len(_nUiqueEle)):\n",
    "        y_pred = np.zeros(len(y_actual))\n",
    "        for index in range(len(y_actual)):\n",
    "            if(proba[index] >= _nUiqueEle[pIndex]):\n",
    "                y_pred[index] = 1.0\n",
    "            else:\n",
    "                y_pred[index] = 0.0\n",
    "        TNR, FPR, FNR, TPR, TN, FP, FN, TP  = confusion_matrix(y_actual, y_pred)\n",
    "        FPRList.append(FPR)\n",
    "        TPRList.append(TPR)\n",
    "    TPRArray = np.array(TPRList)\n",
    "    FPRArray = np.array(FPRList)\n",
    "    TPRArray.sort()\n",
    "    FPRArray.sort()\n",
    "    pAUC = np.trapz(TPRArray, FPRArray)\n",
    "    return TPRArray,FPRArray, pAUC\n",
    "    \n",
    "    \n",
    "tpr_array, fpr_array, AUCScore = custom_AUC(df_a['y'].values, df_a['proba'])\n",
    "print(\"AUC score: \"+str(AUCScore))\n",
    "\n",
    "#plot TPR, FPR values\n",
    "plt.plot(tpr_array, fpr_array)\n",
    "plt.ylabel('tpr')\n",
    "plt.xlabel('fpr')\n",
    "plt.show\n"
   ]
  },
  {
   "cell_type": "markdown",
   "metadata": {
    "id": "V5KZem1BQvn2"
   },
   "source": [
    "\n",
    "\n",
    "## B. Compute performance metrics for the given data '5_b.csv'\n",
    "<pre>\n",
    "   <b>Note 1:</b> in this data you can see number of positive points << number of negatives points\n",
    "   <b>Note 2:</b> use pandas or numpy to read the data from <b>5_b.csv</b>\n",
    "   <b>Note 3:</b> you need to derive the class labels from given score</pre> $y^{pred}= \\text{[0 if y_score < 0.5 else 1]}$\n",
    "\n",
    "<pre>\n",
    "<ol>\n",
    "<li> Compute Confusion Matrix </li>\n",
    "<li> Compute F1 Score </li>\n",
    "<li> Compute AUC Score, you need to compute different thresholds and for each threshold compute tpr,fpr and then use               numpy.trapz(tpr_array, fpr_array) <a href='https://stackoverflow.com/q/53603376/4084039'>https://stackoverflow.com/q/53603376/4084039</a>, <a href='https://stackoverflow.com/a/39678975/4084039'>https://stackoverflow.com/a/39678975/4084039</a>\n",
    "Note- Make sure that you arrange your probability scores in descending order while calculating AUC</li>\n",
    "<li> Compute Accuracy Score </li>\n",
    "</ol>\n",
    "</pre>"
   ]
  },
  {
   "cell_type": "code",
   "execution_count": 55,
   "metadata": {
    "id": "U2sKlq0YQvn5"
   },
   "outputs": [
    {
     "data": {
      "text/html": [
       "<div>\n",
       "<style scoped>\n",
       "    .dataframe tbody tr th:only-of-type {\n",
       "        vertical-align: middle;\n",
       "    }\n",
       "\n",
       "    .dataframe tbody tr th {\n",
       "        vertical-align: top;\n",
       "    }\n",
       "\n",
       "    .dataframe thead th {\n",
       "        text-align: right;\n",
       "    }\n",
       "</style>\n",
       "<table border=\"1\" class=\"dataframe\">\n",
       "  <thead>\n",
       "    <tr style=\"text-align: right;\">\n",
       "      <th></th>\n",
       "      <th>y</th>\n",
       "      <th>proba</th>\n",
       "    </tr>\n",
       "  </thead>\n",
       "  <tbody>\n",
       "    <tr>\n",
       "      <th>0</th>\n",
       "      <td>0.0</td>\n",
       "      <td>0.281035</td>\n",
       "    </tr>\n",
       "    <tr>\n",
       "      <th>1</th>\n",
       "      <td>0.0</td>\n",
       "      <td>0.465152</td>\n",
       "    </tr>\n",
       "    <tr>\n",
       "      <th>2</th>\n",
       "      <td>0.0</td>\n",
       "      <td>0.352793</td>\n",
       "    </tr>\n",
       "    <tr>\n",
       "      <th>3</th>\n",
       "      <td>0.0</td>\n",
       "      <td>0.157818</td>\n",
       "    </tr>\n",
       "    <tr>\n",
       "      <th>4</th>\n",
       "      <td>0.0</td>\n",
       "      <td>0.276648</td>\n",
       "    </tr>\n",
       "  </tbody>\n",
       "</table>\n",
       "</div>"
      ],
      "text/plain": [
       "     y     proba\n",
       "0  0.0  0.281035\n",
       "1  0.0  0.465152\n",
       "2  0.0  0.352793\n",
       "3  0.0  0.157818\n",
       "4  0.0  0.276648"
      ]
     },
     "execution_count": 55,
     "metadata": {},
     "output_type": "execute_result"
    }
   ],
   "source": [
    "df_b=pd.read_csv('5_b.csv')\n",
    "df_b.head()"
   ]
  },
  {
   "cell_type": "code",
   "execution_count": 57,
   "metadata": {
    "id": "xlLVa-cVAfCS"
   },
   "outputs": [
    {
     "name": "stdout",
     "output_type": "stream",
     "text": [
      "TNR:  0.9761 FPR:  0.0239  FNR:  0.45 TPR: 0.55\n",
      "F1_Score: 0.2791878172588833\n",
      "Accuracy: 0.005445544554455445\n",
      "AUC score: 0.9377570000000001\n"
     ]
    },
    {
     "data": {
      "text/plain": [
       "<function matplotlib.pyplot.show(close=None, block=None)>"
      ]
     },
     "execution_count": 57,
     "metadata": {},
     "output_type": "execute_result"
    },
    {
     "data": {
      "image/png": "[encoded data removed]",
      "text/plain": [
       "<Figure size 432x288 with 1 Axes>"
      ]
     },
     "metadata": {
      "needs_background": "light"
     },
     "output_type": "display_data"
    }
   ],
   "source": [
    "# write your code here for task B\n",
    "y_predb = []\n",
    "for index, row in df_b.iterrows():\n",
    "    if(row['proba'] < 0.5):\n",
    "        y_predb.append(0.0)\n",
    "    else:\n",
    "        y_predb.append(1.0)\n",
    "df_b['y_pred'] = y_predb\n",
    "\n",
    "\n",
    "TNR, FPR, FNR, TPR, TN, FP, FN, TP = confusion_matrix(df_b['y'].values, df_b['y_pred'].values)\n",
    "print('TNR: '+' '+str(TNR)+' '+'FPR: '+' '+str(FPR)+' '+' FNR: '+' '+str(FNR)+' '+'TPR:'+' '+str(TPR))\n",
    "\n",
    "def precision(tp, fp):\n",
    "    '''This method takes input as true positive and false positive values as input\n",
    "    and calculates precision value'''\n",
    "    return tp/(tp+fp)\n",
    "\n",
    "def recall(tp, fn):\n",
    "    '''This method takes true positive and false negative as input and\n",
    "    calculates recall, in other words it's also called TPR '''\n",
    "    return tp/(tp+fn)\n",
    "\n",
    "def f1_score(tp, fp, fn):\n",
    "    '''This method takes true positive, false positive, false negative as input \n",
    "    and calculates f1_score metrics'''\n",
    "    pr = precision(tp, fp)\n",
    "    re = recall(tp, fn)\n",
    "    return (2*pr*re)/(pr+re)\n",
    "\n",
    "def accuracy(tp, N):\n",
    "    '''This method calculates accuracy score with input as true positive and length of inputs'''\n",
    "    return tp/N\n",
    "\n",
    "\n",
    "f1_score = f1_score(TP, FP, FN)\n",
    "print(\"F1_Score: \"+str(f1_score))\n",
    "\n",
    "accuracy = accuracy(TP, TN+FP+FN+TP)\n",
    "print(\"Accuracy: \"+str(accuracy))\n",
    "\n",
    "tpr_array, fpr_array, AUCScore = custom_AUC(df_b['y'].values, df_b['proba'])\n",
    "print(\"AUC score: \"+str(AUCScore))\n",
    "\n",
    "#plot TPR, FPR values\n",
    "plt.plot(tpr_array, fpr_array)\n",
    "plt.ylabel('tpr')\n",
    "plt.xlabel('fpr')\n",
    "plt.show"
   ]
  },
  {
   "cell_type": "markdown",
   "metadata": {
    "id": "GiPGonTzQvoB"
   },
   "source": [
    "### C. Compute the best threshold (similarly to ROC curve computation) of probability which gives lowest values of metric <b>A</b> for the given data \n",
    "<br>\n",
    "\n",
    "you will be predicting label of a data points like this: $y^{pred}= \\text{[0 if y_score < threshold  else 1]}$\n",
    "\n",
    "$ A = 500 \\times \\text{number of false negative} + 100 \\times \\text{numebr of false positive}$\n",
    "\n",
    "<pre>\n",
    "   <b>Note 1:</b> in this data you can see number of negative points > number of positive points\n",
    "   <b>Note 2:</b> use pandas or numpy to read the data from <b>5_c.csv</b>\n",
    "</pre>"
   ]
  },
  {
   "cell_type": "code",
   "execution_count": 58,
   "metadata": {
    "id": "x5HIJzq1QvoE"
   },
   "outputs": [
    {
     "data": {
      "text/html": [
       "<div>\n",
       "<style scoped>\n",
       "    .dataframe tbody tr th:only-of-type {\n",
       "        vertical-align: middle;\n",
       "    }\n",
       "\n",
       "    .dataframe tbody tr th {\n",
       "        vertical-align: top;\n",
       "    }\n",
       "\n",
       "    .dataframe thead th {\n",
       "        text-align: right;\n",
       "    }\n",
       "</style>\n",
       "<table border=\"1\" class=\"dataframe\">\n",
       "  <thead>\n",
       "    <tr style=\"text-align: right;\">\n",
       "      <th></th>\n",
       "      <th>y</th>\n",
       "      <th>prob</th>\n",
       "    </tr>\n",
       "  </thead>\n",
       "  <tbody>\n",
       "    <tr>\n",
       "      <th>0</th>\n",
       "      <td>0</td>\n",
       "      <td>0.458521</td>\n",
       "    </tr>\n",
       "    <tr>\n",
       "      <th>1</th>\n",
       "      <td>0</td>\n",
       "      <td>0.505037</td>\n",
       "    </tr>\n",
       "    <tr>\n",
       "      <th>2</th>\n",
       "      <td>0</td>\n",
       "      <td>0.418652</td>\n",
       "    </tr>\n",
       "    <tr>\n",
       "      <th>3</th>\n",
       "      <td>0</td>\n",
       "      <td>0.412057</td>\n",
       "    </tr>\n",
       "    <tr>\n",
       "      <th>4</th>\n",
       "      <td>0</td>\n",
       "      <td>0.375579</td>\n",
       "    </tr>\n",
       "  </tbody>\n",
       "</table>\n",
       "</div>"
      ],
      "text/plain": [
       "   y      prob\n",
       "0  0  0.458521\n",
       "1  0  0.505037\n",
       "2  0  0.418652\n",
       "3  0  0.412057\n",
       "4  0  0.375579"
      ]
     },
     "execution_count": 58,
     "metadata": {},
     "output_type": "execute_result"
    }
   ],
   "source": [
    "df_c=pd.read_csv('5_c.csv')\n",
    "df_c.head()"
   ]
  },
  {
   "cell_type": "code",
   "execution_count": 66,
   "metadata": {
    "id": "eAPjewjzAfCa"
   },
   "outputs": [
    {
     "name": "stdout",
     "output_type": "stream",
     "text": [
      "Best Threshold:  0.2300390278970873\n"
     ]
    }
   ],
   "source": [
    "_nUiqueEleSorted = np.sort(list(set(df_c['prob'])) , axis = None, kind = 'quicksort')[::-1]\n",
    "\n",
    "FNList = []\n",
    "FPList = []\n",
    "for i in range(len(_nUiqueEleSorted)):\n",
    "    y_pred = df_c['prob'].apply(lambda y:0 if y < _nUiqueEleSorted[i] else 1)\n",
    "    TNR, FPR, FNR, TPR, TN, FP, FN, TP = confusion_matrix(df_c['y'], y_pred)\n",
    "    FNList.append(FN)\n",
    "    FPList.append(FP)\n",
    "    \n",
    "Alist = []  \n",
    "for i in range(len(FNList)):\n",
    "    A = (500 * FNList[i])+(100 * FPList[i])\n",
    "    Alist.append(A)\n",
    "    \n",
    "min_index_of_Alist = Alist.index(min(Alist))\n",
    "best_threshold = _nUiqueEleSorted[min_index_of_Alist]\n",
    "\n",
    "print(\"Best Threshold: \", best_threshold)\n",
    "\n"
   ]
  },
  {
   "cell_type": "markdown",
   "metadata": {
    "id": "sD4CcgjXQvoL"
   },
   "source": [
    "\n",
    "## D.</b></font> Compute performance metrics(for regression) for the given data 5_d.csv\n",
    "<pre>    <b>Note 2:</b> use pandas or numpy to read the data from <b>5_d.csv</b>\n",
    "    <b>Note 1:</b> <b>5_d.csv</b> will having two columns Y and predicted_Y both are real valued features\n",
    "<ol>\n",
    "<li> Compute Mean Square Error </li>\n",
    "<li> Compute MAPE: https://www.youtube.com/watch?v=ly6ztgIkUxk</li>\n",
    "<li> Compute R^2 error: https://en.wikipedia.org/wiki/Coefficient_of_determination#Definitions </li>\n",
    "</ol>\n",
    "</pre>"
   ]
  },
  {
   "cell_type": "code",
   "execution_count": 67,
   "metadata": {
    "id": "sVOj-bF9AfCd"
   },
   "outputs": [
    {
     "data": {
      "text/html": [
       "<div>\n",
       "<style scoped>\n",
       "    .dataframe tbody tr th:only-of-type {\n",
       "        vertical-align: middle;\n",
       "    }\n",
       "\n",
       "    .dataframe tbody tr th {\n",
       "        vertical-align: top;\n",
       "    }\n",
       "\n",
       "    .dataframe thead th {\n",
       "        text-align: right;\n",
       "    }\n",
       "</style>\n",
       "<table border=\"1\" class=\"dataframe\">\n",
       "  <thead>\n",
       "    <tr style=\"text-align: right;\">\n",
       "      <th></th>\n",
       "      <th>y</th>\n",
       "      <th>pred</th>\n",
       "    </tr>\n",
       "  </thead>\n",
       "  <tbody>\n",
       "    <tr>\n",
       "      <th>0</th>\n",
       "      <td>101.0</td>\n",
       "      <td>100.0</td>\n",
       "    </tr>\n",
       "    <tr>\n",
       "      <th>1</th>\n",
       "      <td>120.0</td>\n",
       "      <td>100.0</td>\n",
       "    </tr>\n",
       "    <tr>\n",
       "      <th>2</th>\n",
       "      <td>131.0</td>\n",
       "      <td>113.0</td>\n",
       "    </tr>\n",
       "    <tr>\n",
       "      <th>3</th>\n",
       "      <td>164.0</td>\n",
       "      <td>125.0</td>\n",
       "    </tr>\n",
       "    <tr>\n",
       "      <th>4</th>\n",
       "      <td>154.0</td>\n",
       "      <td>152.0</td>\n",
       "    </tr>\n",
       "  </tbody>\n",
       "</table>\n",
       "</div>"
      ],
      "text/plain": [
       "       y   pred\n",
       "0  101.0  100.0\n",
       "1  120.0  100.0\n",
       "2  131.0  113.0\n",
       "3  164.0  125.0\n",
       "4  154.0  152.0"
      ]
     },
     "execution_count": 67,
     "metadata": {},
     "output_type": "execute_result"
    }
   ],
   "source": [
    "df_d=pd.read_csv('5_d.csv')\n",
    "df_d.head()"
   ]
  },
  {
   "cell_type": "code",
   "execution_count": 92,
   "metadata": {
    "id": "uRhL1pheAfCe"
   },
   "outputs": [
    {
     "name": "stdout",
     "output_type": "stream",
     "text": [
      "Mean Squared Error:  177.16569974554707\n",
      "Mean Absolute Percentage Error:  12.91202994009687\n",
      "R squared Error:  0.9563582786990964\n"
     ]
    }
   ],
   "source": [
    "def meanSquaredError(y_actual, y_pred):\n",
    "    '''This method takes y_actual and y_prediction as input\n",
    "    and returns mean squared errors'''\n",
    "    if((type(y_actual) != type(y_pred)) and isinstance(y_actual, np.ndarray) and isinstance(y_pred, np.ndarray)):\n",
    "        print(\"invalid input, both inputs should be of same type i.e np.ndarray\")\n",
    "    elif(len(y_actual) != len(y_pred)):\n",
    "        print(\"inputs are not of same length, to comapre both inputs should be of same length.\")\n",
    "    else:\n",
    "        squared_error = 0\n",
    "        for index in range(len(y_actual)):\n",
    "            squared_error += np.power((y_actual[index]-y_pred[index]),2)\n",
    "        mean_squared_error = squared_error/len(y_actual)\n",
    "        return mean_squared_error\n",
    "            \n",
    "print(\"Mean Squared Error: \", meanSquaredError(df_d['y'], df_d['pred']))\n",
    "\n",
    "#Mean absolute percentage error\n",
    "def modified_meanAbsolutePercentageError(y_actual, y_pred):\n",
    "    '''This method takes y_actual and y_prediction as input for regression\n",
    "    and returns modified mean absolute percentage error'''\n",
    "    if((type(y_actual) != type(y_pred)) and isinstance(y_actual, np.ndarray) and isinstance(y_pred, np.ndarray)):\n",
    "        print(\"invalid input, both inputs should be of same type i.e np.ndarray\")\n",
    "    elif(len(y_actual) != len(y_pred)):\n",
    "        print(\"inputs are not of same length, to comapre both inputs should be of same length.\")\n",
    "    else:\n",
    "        error_is = 0\n",
    "        a = 0\n",
    "        for index in range(len(y_actual)):\n",
    "            error_is += np.absolute(y_actual[index]-y_pred[index])\n",
    "            a += y_actual[index]\n",
    "        mape = (error_is/a)*100\n",
    "        return mape\n",
    "print(\"Mean Absolute Percentage Error: \", modified_meanAbsolutePercentageError(df_d['y'], df_d['pred']))\n",
    "\n",
    "def sumOfSquaredTotal(y_actual):\n",
    "    '''This method takes y_actual as input and calculates sum of squared total and returns it'''\n",
    "    y_avg = np.mean(y_actual)\n",
    "    ss_total = 0\n",
    "    for index in range(len(y_actual)):\n",
    "        ss_total += np.power(y_actual[index]-y_avg,2)\n",
    "    return ss_total\n",
    "\n",
    "def sumOfSquaresResidue(y_actual, y_pred):\n",
    "    '''This method takes y_actual and y_prediction as input for regression\n",
    "    and calculates sum of squared residues and returns it.'''\n",
    "    ss_residue = 0\n",
    "    for index in range(len(y_actual)):\n",
    "        ss_residue += np.power((y_actual[index]-y_pred[index]),2)\n",
    "    return ss_residue\n",
    "\n",
    "def rSquaredORCoeffiOfDetermination(y_actual, y_pred):\n",
    "    '''This method takes y_actual and y_prediction as input and calculates r squared error or \n",
    "    also called as Coefficient of determination and returns it'''\n",
    "    ss_total = sumOfSquaredTotal(y_actual)\n",
    "    ss_residue = sumOfSquaresResidue(y_actual, y_pred)\n",
    "    r_squared = (1 - (ss_residue/ss_total))\n",
    "    return r_squared\n",
    "\n",
    "print(\"R squared Error: \", rSquaredORCoeffiOfDetermination(df_d['y'].values, df_d['pred'].values))\n"
   ]
  }
 ],
 "metadata": {
  "colab": {
   "collapsed_sections": [],
   "name": "5_Performance_metrics_Instructions.ipynb",
   "provenance": []
  },
  "kernelspec": {
   "display_name": "Python 3 (ipykernel)",
   "language": "python",
   "name": "python3"
  },
  "language_info": {
   "codemirror_mode": {
    "name": "ipython",
    "version": 3
   },
   "file_extension": ".py",
   "mimetype": "text/x-python",
   "name": "python",
   "nbconvert_exporter": "python",
   "pygments_lexer": "ipython3",
   "version": "3.9.12"
  }
 },
 "nbformat": 4,
 "nbformat_minor": 1
}
